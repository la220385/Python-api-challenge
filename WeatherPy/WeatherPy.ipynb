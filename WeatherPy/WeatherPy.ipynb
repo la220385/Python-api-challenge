{
 "cells": [
  {
   "cell_type": "markdown",
   "metadata": {},
   "source": [
    "# WeatherPy\n",
    "\n",
    "---\n",
    "\n",
    "## Starter Code to Generate Random Geographic Coordinates and a List of Cities"
   ]
  },
  {
   "cell_type": "code",
   "execution_count": 11,
   "metadata": {
    "scrolled": true
   },
   "outputs": [],
   "source": [
    "# Dependencies and Setup\n",
    "import matplotlib.pyplot as plt\n",
    "import pandas as pd\n",
    "import numpy as np\n",
    "import requests\n",
    "import time\n",
    "from scipy.stats import linregress\n",
    "\n",
    "# Import the OpenWeatherMap API key\n",
    "from api_keys import weather_api_key\n",
    "\n",
    "# Import citipy to determine the cities based on latitude and longitude\n",
    "from citipy import citipy"
   ]
  },
  {
   "cell_type": "markdown",
   "metadata": {},
   "source": [
    "### Generate the Cities List by Using the `citipy` Library"
   ]
  },
  {
   "cell_type": "code",
   "execution_count": 13,
   "metadata": {},
   "outputs": [
    {
     "name": "stdout",
     "output_type": "stream",
     "text": [
      "Number of cities in the list: 594\n"
     ]
    }
   ],
   "source": [
    "# Empty list for holding the latitude and longitude combinations\n",
    "lat_lngs = []\n",
    "\n",
    "# Empty list for holding the cities names\n",
    "cities = []\n",
    "\n",
    "# Range of latitudes and longitudes\n",
    "lat_range = (-90, 90)\n",
    "lng_range = (-180, 180)\n",
    "\n",
    "# Create a set of random lat and lng combinations\n",
    "lats = np.random.uniform(lat_range[0], lat_range[1], size=1500)\n",
    "lngs = np.random.uniform(lng_range[0], lng_range[1], size=1500)\n",
    "lat_lngs = zip(lats, lngs)\n",
    "\n",
    "# Identify nearest city for each lat, lng combination\n",
    "for lat_lng in lat_lngs:\n",
    "    city = citipy.nearest_city(lat_lng[0], lat_lng[1]).city_name\n",
    "\n",
    "    # If the city is unique, then add it to a our cities list\n",
    "    if city not in cities:\n",
    "        cities.append(city)\n",
    "\n",
    "# Print the city count to confirm sufficient count\n",
    "print(f\"Number of cities in the list: {len(cities)}\")"
   ]
  },
  {
   "cell_type": "markdown",
   "metadata": {},
   "source": [
    "---"
   ]
  },
  {
   "cell_type": "markdown",
   "metadata": {},
   "source": [
    "## Requirement 1: Create Plots to Showcase the Relationship Between Weather Variables and Latitude\n",
    "\n",
    "### Use the OpenWeatherMap API to retrieve weather data from the cities list generated in the started code"
   ]
  },
  {
   "cell_type": "code",
   "execution_count": null,
   "metadata": {},
   "outputs": [
    {
     "name": "stdout",
     "output_type": "stream",
     "text": [
      "Beginning Data Retrieval     \n",
      "-----------------------------\n",
      "Processing Record 1 of Set 1 | venadillo\n",
      "Processing Record 2 of Set 1 | hamilton\n",
      "Processing Record 3 of Set 1 | kalemie\n",
      "Processing Record 4 of Set 1 | iqaluit\n",
      "Processing Record 5 of Set 1 | hermanus\n",
      "Processing Record 6 of Set 1 | tsiombe\n",
      "Processing Record 7 of Set 1 | djambala\n",
      "Processing Record 8 of Set 1 | grytviken\n",
      "Processing Record 9 of Set 1 | port-aux-francais\n",
      "Processing Record 10 of Set 1 | ushuaia\n",
      "Processing Record 11 of Set 1 | mili\n",
      "Processing Record 12 of Set 1 | antalaha\n",
      "Processing Record 13 of Set 1 | vilyuchinsk\n",
      "Processing Record 14 of Set 1 | bethel\n",
      "Processing Record 15 of Set 1 | port mathurin\n",
      "Processing Record 16 of Set 1 | hayma'\n",
      "City not found: hayma'. Skipping...\n",
      "Processing Record 17 of Set 1 | severnoye\n",
      "Processing Record 18 of Set 1 | adamstown\n",
      "Processing Record 19 of Set 1 | nova sintra\n",
      "Processing Record 20 of Set 1 | rongelap\n",
      "Processing Record 21 of Set 1 | guerrero negro\n",
      "Processing Record 22 of Set 1 | lazaro cardenas\n",
      "Processing Record 23 of Set 1 | mumbwa\n",
      "Processing Record 24 of Set 1 | north bondi\n",
      "Processing Record 25 of Set 1 | touros\n",
      "Processing Record 26 of Set 1 | zeya\n",
      "Processing Record 27 of Set 1 | st. john's\n",
      "Processing Record 28 of Set 1 | albany\n",
      "Processing Record 29 of Set 1 | kimbe\n",
      "Processing Record 30 of Set 1 | ta`u\n",
      "Processing Record 31 of Set 1 | isafjordur\n",
      "Processing Record 32 of Set 1 | walvis bay\n",
      "Processing Record 33 of Set 1 | chibougamau\n",
      "Processing Record 34 of Set 1 | tazovsky\n",
      "Processing Record 35 of Set 1 | blackmans bay\n",
      "Processing Record 36 of Set 1 | plettenberg bay\n",
      "Processing Record 37 of Set 1 | waitangi\n",
      "Processing Record 38 of Set 1 | kone\n",
      "Processing Record 39 of Set 1 | betio village\n",
      "Processing Record 40 of Set 1 | port saint john's\n",
      "Processing Record 41 of Set 1 | margaret river\n",
      "Processing Record 42 of Set 1 | tranovaho\n",
      "City not found: tranovaho. Skipping...\n",
      "Processing Record 43 of Set 1 | rukban\n",
      "City not found: rukban. Skipping...\n",
      "Processing Record 44 of Set 1 | colonia\n",
      "Processing Record 45 of Set 1 | remire-montjoly\n",
      "Processing Record 46 of Set 1 | ilulissat\n",
      "Processing Record 47 of Set 1 | bilibino\n",
      "Processing Record 48 of Set 1 | avarua\n",
      "Processing Record 49 of Set 1 | brookings\n",
      "Processing Record 50 of Set 1 | nagqu\n",
      "Processing Record 0 of Set 2 | lucapa\n",
      "Processing Record 1 of Set 2 | tiksi\n",
      "Processing Record 2 of Set 2 | ahau\n",
      "City not found: ahau. Skipping...\n",
      "Processing Record 3 of Set 2 | saldanha\n",
      "Processing Record 4 of Set 2 | preobrazheniye\n",
      "Processing Record 5 of Set 2 | puerto natales\n",
      "Processing Record 6 of Set 2 | mana\n",
      "Processing Record 7 of Set 2 | buckeye\n",
      "Processing Record 8 of Set 2 | tolanaro\n",
      "Processing Record 9 of Set 2 | georgetown\n",
      "Processing Record 10 of Set 2 | alice springs\n",
      "Processing Record 11 of Set 2 | am djarass\n",
      "City not found: am djarass. Skipping...\n",
      "Processing Record 12 of Set 2 | fale old settlement\n",
      "Processing Record 13 of Set 2 | 'ohonua\n",
      "City not found: 'ohonua. Skipping...\n",
      "Processing Record 14 of Set 2 | ancud\n",
      "Processing Record 15 of Set 2 | college\n",
      "Processing Record 16 of Set 2 | arraial do cabo\n",
      "Processing Record 17 of Set 2 | yellowknife\n",
      "Processing Record 18 of Set 2 | akureyri\n",
      "Processing Record 19 of Set 2 | teius\n",
      "Processing Record 20 of Set 2 | iskateley\n",
      "Processing Record 21 of Set 2 | ouani\n",
      "Processing Record 22 of Set 2 | alto barinas\n",
      "Processing Record 23 of Set 2 | sinabang\n",
      "Processing Record 24 of Set 2 | quang ngai\n",
      "Processing Record 25 of Set 2 | karkira\n",
      "Processing Record 26 of Set 2 | labrador city\n",
      "Processing Record 27 of Set 2 | edinburgh of the seven seas\n",
      "Processing Record 28 of Set 2 | luderitz\n",
      "Processing Record 29 of Set 2 | papatowai\n",
      "Processing Record 30 of Set 2 | grand falls-windsor\n",
      "Processing Record 31 of Set 2 | cill airne\n",
      "Processing Record 32 of Set 2 | puerto deseado\n",
      "Processing Record 33 of Set 2 | taiohae\n",
      "City not found: taiohae. Skipping...\n",
      "Processing Record 34 of Set 2 | hawaiian paradise park\n",
      "Processing Record 35 of Set 2 | margate\n",
      "Processing Record 36 of Set 2 | tongouson\n",
      "Processing Record 37 of Set 2 | hasaki\n",
      "Processing Record 38 of Set 2 | revda\n",
      "Processing Record 39 of Set 2 | mission\n",
      "Processing Record 40 of Set 2 | palikir - national government center\n",
      "Processing Record 41 of Set 2 | yaren\n",
      "Processing Record 42 of Set 2 | siwa oasis\n",
      "Processing Record 43 of Set 2 | petropavlovsk-kamchatsky\n",
      "Processing Record 44 of Set 2 | nacozari de garcia\n",
      "Processing Record 45 of Set 2 | lihue\n",
      "Processing Record 46 of Set 2 | pisco\n",
      "Processing Record 47 of Set 2 | happy valley-goose bay\n",
      "Processing Record 48 of Set 2 | udachny\n",
      "Processing Record 49 of Set 2 | ape\n",
      "Processing Record 0 of Set 3 | timimoun\n",
      "Processing Record 1 of Set 3 | carbonear\n",
      "Processing Record 2 of Set 3 | ribeira grande\n",
      "Processing Record 3 of Set 3 | sola\n",
      "Processing Record 4 of Set 3 | talnakh\n",
      "Processing Record 5 of Set 3 | trinidad\n",
      "Processing Record 6 of Set 3 | la mira\n",
      "Processing Record 7 of Set 3 | murzuq\n",
      "Processing Record 8 of Set 3 | shendi\n",
      "Processing Record 9 of Set 3 | sungai penuh\n",
      "Processing Record 10 of Set 3 | puerto san carlos\n",
      "City not found: puerto san carlos. Skipping...\n",
      "Processing Record 11 of Set 3 | anna regina\n",
      "Processing Record 12 of Set 3 | tostado\n",
      "Processing Record 13 of Set 3 | iwanai\n",
      "Processing Record 14 of Set 3 | dryden\n",
      "Processing Record 15 of Set 3 | wailua homesteads\n",
      "Processing Record 16 of Set 3 | suntar\n",
      "Processing Record 17 of Set 3 | kristiansund\n",
      "Processing Record 18 of Set 3 | dudinka\n",
      "Processing Record 19 of Set 3 | utrik\n",
      "Processing Record 20 of Set 3 | afaahiti\n",
      "Processing Record 21 of Set 3 | quibdo\n",
      "Processing Record 22 of Set 3 | xinyuan\n",
      "Processing Record 23 of Set 3 | jamestown\n",
      "Processing Record 24 of Set 3 | remontnoye\n",
      "Processing Record 25 of Set 3 | yamba\n",
      "City not found: yamba. Skipping...\n",
      "Processing Record 26 of Set 3 | chonchi\n",
      "Processing Record 27 of Set 3 | mount pearl\n",
      "Processing Record 28 of Set 3 | whitehorse\n",
      "Processing Record 29 of Set 3 | kingston\n",
      "Processing Record 30 of Set 3 | iskitim\n",
      "Processing Record 31 of Set 3 | bela\n",
      "Processing Record 32 of Set 3 | emerald\n",
      "Processing Record 33 of Set 3 | oasis\n",
      "Processing Record 34 of Set 3 | kaiama\n",
      "Processing Record 35 of Set 3 | jiayuguan\n",
      "Processing Record 36 of Set 3 | port lincoln\n",
      "Processing Record 37 of Set 3 | enewetak\n",
      "Processing Record 38 of Set 3 | myitkyina\n",
      "Processing Record 39 of Set 3 | salamanca\n",
      "Processing Record 40 of Set 3 | bamboo flat\n",
      "Processing Record 41 of Set 3 | wanning\n",
      "Processing Record 42 of Set 3 | itamaraca\n",
      "Processing Record 43 of Set 3 | newman\n",
      "Processing Record 44 of Set 3 | magadan\n",
      "Processing Record 45 of Set 3 | sao vicente\n",
      "Processing Record 46 of Set 3 | svetlyy\n",
      "Processing Record 47 of Set 3 | qaqortoq\n",
      "Processing Record 48 of Set 3 | san patricio\n",
      "Processing Record 49 of Set 3 | hithadhoo\n",
      "Processing Record 0 of Set 4 | manokwari\n",
      "Processing Record 1 of Set 4 | howrah\n",
      "Processing Record 2 of Set 4 | aykhal\n",
      "Processing Record 3 of Set 4 | khorol\n",
      "Processing Record 4 of Set 4 | pavilosta\n",
      "Processing Record 5 of Set 4 | bredasdorp\n",
      "Processing Record 6 of Set 4 | ninh binh\n",
      "Processing Record 7 of Set 4 | gubkinskiy\n",
      "Processing Record 8 of Set 4 | raseiniai\n",
      "Processing Record 9 of Set 4 | ciranjang-hilir\n",
      "Processing Record 10 of Set 4 | hadibu\n",
      "Processing Record 11 of Set 4 | hotan\n",
      "Processing Record 12 of Set 4 | khandyga\n",
      "Processing Record 13 of Set 4 | kruisfontein\n",
      "Processing Record 14 of Set 4 | palu\n",
      "Processing Record 15 of Set 4 | pitimbu\n",
      "Processing Record 16 of Set 4 | port alfred\n",
      "Processing Record 17 of Set 4 | vila franca do campo\n",
      "Processing Record 18 of Set 4 | san juan de miraflores\n",
      "Processing Record 19 of Set 4 | west island\n",
      "Processing Record 20 of Set 4 | olinda\n",
      "Processing Record 21 of Set 4 | tonkino\n",
      "Processing Record 22 of Set 4 | lompoc\n",
      "Processing Record 23 of Set 4 | kharp\n",
      "Processing Record 24 of Set 4 | punta arenas\n",
      "Processing Record 25 of Set 4 | northam\n",
      "Processing Record 26 of Set 4 | weno\n",
      "Processing Record 27 of Set 4 | san antonio de pale\n",
      "Processing Record 28 of Set 4 | estes park\n",
      "Processing Record 29 of Set 4 | el granada\n",
      "Processing Record 30 of Set 4 | la passe\n",
      "Processing Record 31 of Set 4 | okahao\n",
      "Processing Record 32 of Set 4 | polyarnyy\n",
      "Processing Record 33 of Set 4 | murashi\n",
      "Processing Record 34 of Set 4 | sao felix do xingu\n",
      "Processing Record 35 of Set 4 | mar del plata\n",
      "Processing Record 36 of Set 4 | tsengel\n",
      "Processing Record 37 of Set 4 | sawakin\n",
      "Processing Record 38 of Set 4 | beidao\n",
      "Processing Record 39 of Set 4 | anadyr\n",
      "Processing Record 40 of Set 4 | kangding\n",
      "Processing Record 41 of Set 4 | ed damer\n",
      "Processing Record 42 of Set 4 | aykol\n",
      "Processing Record 43 of Set 4 | de aar\n",
      "Processing Record 44 of Set 4 | kununurra\n",
      "Processing Record 45 of Set 4 | naze\n",
      "Processing Record 46 of Set 4 | skowhegan\n",
      "Processing Record 47 of Set 4 | tamandare\n",
      "Processing Record 48 of Set 4 | selfoss\n",
      "Processing Record 49 of Set 4 | wakkanai\n",
      "Processing Record 0 of Set 5 | kapa'a\n",
      "Processing Record 1 of Set 5 | kodiak\n",
      "Processing Record 2 of Set 5 | fort bragg\n",
      "Processing Record 3 of Set 5 | port augusta\n",
      "Processing Record 4 of Set 5 | kupang\n",
      "Processing Record 5 of Set 5 | holualoa\n",
      "Processing Record 6 of Set 5 | vorgashor\n",
      "Processing Record 7 of Set 5 | egilsstadir\n",
      "Processing Record 8 of Set 5 | ribeira brava\n",
      "Processing Record 9 of Set 5 | karabash\n",
      "Processing Record 10 of Set 5 | olonkinbyen\n",
      "Processing Record 11 of Set 5 | madang\n",
      "Processing Record 12 of Set 5 | nova vicosa\n",
      "Processing Record 13 of Set 5 | coahuayana de hidalgo\n",
      "Processing Record 14 of Set 5 | garoua boulai\n",
      "Processing Record 15 of Set 5 | kapit\n",
      "Processing Record 16 of Set 5 | flying fish cove\n",
      "Processing Record 17 of Set 5 | san luis de la loma\n",
      "Processing Record 18 of Set 5 | hammerfest\n",
      "Processing Record 19 of Set 5 | beipiao\n",
      "Processing Record 20 of Set 5 | kataragama\n",
      "City not found: kataragama. Skipping...\n",
      "Processing Record 21 of Set 5 | nako\n",
      "Processing Record 22 of Set 5 | tura\n",
      "Processing Record 23 of Set 5 | lorengau\n",
      "Processing Record 24 of Set 5 | daru\n",
      "Processing Record 25 of Set 5 | turpan\n",
      "Processing Record 26 of Set 5 | minas de marcona\n",
      "Processing Record 27 of Set 5 | vojens\n",
      "Processing Record 28 of Set 5 | kulia village\n",
      "City not found: kulia village. Skipping...\n",
      "Processing Record 29 of Set 5 | badger\n",
      "Processing Record 30 of Set 5 | calama\n",
      "Processing Record 31 of Set 5 | khirkiyan\n",
      "Processing Record 32 of Set 5 | gadzhiyevo\n",
      "Processing Record 33 of Set 5 | ripley\n",
      "Processing Record 34 of Set 5 | vadso\n",
      "Processing Record 35 of Set 5 | zhigalovo\n",
      "Processing Record 36 of Set 5 | jianshui\n",
      "Processing Record 37 of Set 5 | tvoroyri\n",
      "Processing Record 38 of Set 5 | tara\n",
      "Processing Record 39 of Set 5 | kurumkan\n",
      "Processing Record 40 of Set 5 | barra de santo antonio\n",
      "Processing Record 41 of Set 5 | port elizabeth\n",
      "Processing Record 42 of Set 5 | el burgo de osma\n",
      "Processing Record 43 of Set 5 | beitbridge\n",
      "Processing Record 44 of Set 5 | espargos\n",
      "City not found: espargos. Skipping...\n",
      "Processing Record 45 of Set 5 | valparaiso\n",
      "Processing Record 46 of Set 5 | ibipeba\n",
      "Processing Record 47 of Set 5 | bolhrad\n",
      "Processing Record 48 of Set 5 | mangrol\n",
      "Processing Record 49 of Set 5 | deqen\n",
      "Processing Record 0 of Set 6 | stanley\n",
      "Processing Record 1 of Set 6 | ndele\n"
     ]
    }
   ],
   "source": [
    "import requests\n",
    "import time\n",
    "import random\n",
    "from citipy import citipy\n",
    "\n",
    "# Set the API base URL\n",
    "url = \"http://api.openweathermap.org/data/2.5/weather\"\n",
    "weather_api_key = \"be30130d8cd8c0d1146e214d31e7ff18\"\n",
    "\n",
    "# Create empty lists for latitude, longitude, and city information\n",
    "latitude = []\n",
    "longitude = []\n",
    "cities = []\n",
    "\n",
    "# Generate 1500 random geographic coordinates (latitude and longitude)\n",
    "for _ in range(1500):\n",
    "    lat = random.uniform(-90.0, 90.0)\n",
    "    lon = random.uniform(-180.0, 180.0)\n",
    "    latitude.append(lat)\n",
    "    longitude.append(lon)\n",
    "\n",
    "    # Use citipy to find the nearest city for each latitude/longitude combination\n",
    "    city = citipy.nearest_city(lat, lon).city_name\n",
    "\n",
    "    # Add city if it's not already in the list (to avoid duplicates)\n",
    "    if city not in cities:\n",
    "        cities.append(city)\n",
    "\n",
    "# Define an empty list to fetch the weather data for each city\n",
    "city_data = []\n",
    "\n",
    "# Print to logger\n",
    "print(\"Beginning Data Retrieval     \")\n",
    "print(\"-----------------------------\")\n",
    "\n",
    "# Create counters\n",
    "record_count = 1\n",
    "set_count = 1\n",
    "\n",
    "# Loop through all the cities in your list to fetch weather data\n",
    "for i, city in enumerate(cities):\n",
    "\n",
    "    # Group cities in sets of 50 for logging purposes\n",
    "    if (i % 50 == 0 and i >= 50):\n",
    "        set_count += 1\n",
    "        record_count = 0\n",
    "\n",
    "    # Create endpoint URL with each city\n",
    "    city_url = f\"{url}?q={city}&appid={weather_api_key}&units=metric\"\n",
    "\n",
    "    # Log the url, record, and set numbers\n",
    "    print(f\"Processing Record {record_count} of Set {set_count} | {city}\")\n",
    "\n",
    "    # Add 1 to the record count\n",
    "    record_count += 1\n",
    "\n",
    "    # Run an API request for each of the cities\n",
    "    try:\n",
    "        # Parse the JSON and retrieve data\n",
    "        city_weather = requests.get(city_url).json()\n",
    "\n",
    "        # Parse out latitude, longitude, max temp, humidity, cloudiness, wind speed, country, and date\n",
    "        city_lat = city_weather[\"coord\"][\"lat\"]\n",
    "        city_lng = city_weather[\"coord\"][\"lon\"]\n",
    "        city_max_temp = city_weather[\"main\"][\"temp_max\"]\n",
    "        city_humidity = city_weather[\"main\"][\"humidity\"]\n",
    "        city_clouds = city_weather[\"clouds\"][\"all\"]\n",
    "        city_wind = city_weather[\"wind\"][\"speed\"]\n",
    "        city_country = city_weather[\"sys\"][\"country\"]\n",
    "        city_date = city_weather[\"dt\"]\n",
    "\n",
    "        # Append the City information into city_data list\n",
    "        city_data.append({\n",
    "            \"City\": city,\n",
    "            \"Lat\": city_lat,\n",
    "            \"Lng\": city_lng,\n",
    "            \"Max Temp\": city_max_temp,\n",
    "            \"Humidity\": city_humidity,\n",
    "            \"Cloudiness\": city_clouds,\n",
    "            \"Wind Speed\": city_wind,\n",
    "            \"Country\": city_country,\n",
    "            \"Date\": city_date\n",
    "        })\n",
    "\n",
    "    # If an error is experienced, skip the city\n",
    "    except Exception as e:\n",
    "        print(f\"City not found: {city}. Skipping...\")\n",
    "\n",
    "    # Pause to avoid rate limiting\n",
    "    time.sleep(1)\n",
    "\n",
    "# Indicate that Data Loading is complete\n",
    "print(\"-----------------------------\")\n",
    "print(\"Data Retrieval Complete      \")\n",
    "print(\"-----------------------------\")"
   ]
  },
  {
   "cell_type": "code",
   "execution_count": null,
   "metadata": {},
   "outputs": [],
   "source": [
    "import pandas as pd\n",
    "# Convert the cities weather data into a Pandas DataFrame\n",
    "city_data_df = pd.DataFrame(city_data)\n",
    "\n",
    "# Show Record Count\n",
    "print(city_data_df.count())"
   ]
  },
  {
   "cell_type": "code",
   "execution_count": null,
   "metadata": {},
   "outputs": [],
   "source": [
    "# Display sample data\n",
    "city_data_df.head()"
   ]
  },
  {
   "cell_type": "code",
   "execution_count": null,
   "metadata": {},
   "outputs": [],
   "source": [
    "# Export the City_Data into a csv\n",
    "import os\n",
    "\n",
    "#'output_data' directory \n",
    "if not os.path.exists(\"output_data\"):\n",
    "    os.makedirs(\"output_data\")\n",
    "\n",
    "city_data_df.to_csv(\"output_data/cities_weather_data.csv\", index=False)"
   ]
  },
  {
   "cell_type": "code",
   "execution_count": null,
   "metadata": {},
   "outputs": [],
   "source": [
    "# Read saved data\n",
    "import pandas as pd \n",
    "\n",
    "city_data_df.to_csv(\"/Users/latifahjones/Desktop/Python-api-challenge/WeatherPy/output_data/cities.csv\", index_label=\"City_ID\")\n",
    "\n",
    "# Display sample data\n",
    "city_data_df.head()"
   ]
  },
  {
   "cell_type": "markdown",
   "metadata": {},
   "source": [
    "### Create the Scatter Plots Requested\n",
    "\n",
    "#### Latitude Vs. Temperature"
   ]
  },
  {
   "cell_type": "code",
   "execution_count": null,
   "metadata": {
    "tags": []
   },
   "outputs": [],
   "source": [
    "import matplotlib.pyplot as plt\n",
    "\n",
    "# Build scatter plot for latitude vs. temperature\n",
    "plt.scatter(city_data_df[\"Lat\"], city_data_df[\"Max Temp\"], edgecolor='black', linewidth=1, marker='o')\n",
    "\n",
    "# Incorporate the other graph properties\n",
    "plt.title(\"City Latitude vs. Temperature (C)\")\n",
    "plt.xlabel(\"Latitude\")\n",
    "plt.ylabel(\"Temperature (C)\")\n",
    "plt.grid(True)\n",
    "\n",
    "# Save the figure\n",
    "plt.savefig(\"output_data/Fig1.png\")\n",
    "\n",
    "# Show plot\n",
    "plt.show()"
   ]
  },
  {
   "cell_type": "markdown",
   "metadata": {},
   "source": [
    "#### Latitude Vs. Humidity"
   ]
  },
  {
   "cell_type": "code",
   "execution_count": null,
   "metadata": {},
   "outputs": [],
   "source": [
    "# Build the scatter plots for latitude vs. humidity\n",
    "plt.scatter(city_data_df[\"Lat\"], city_data_df[\"Humidity\"], edgecolor='black', linewidths=1, marker='o')\n",
    "\n",
    "# Incorporate the other graph properties\n",
    "plt.title(\"City Latitude vs. Humidity (%)\")\n",
    "plt.xlabel(\"Latitude\")\n",
    "plt.ylabel(\"Humidity (%)\")\n",
    "plt.grid(True)\n",
    "\n",
    "# Save the figure\n",
    "plt.savefig(\"output_data/Fig2.png\")\n",
    "\n",
    "# Show plot\n",
    "plt.show()"
   ]
  },
  {
   "cell_type": "markdown",
   "metadata": {},
   "source": [
    "#### Latitude Vs. Cloudiness"
   ]
  },
  {
   "cell_type": "code",
   "execution_count": null,
   "metadata": {},
   "outputs": [],
   "source": [
    "# Build the scatter plots for latitude vs. cloudiness\n",
    "plt.scatter(city_data_df[\"Lat\"], city_data_df[\"Cloudiness\"], edgecolor='black', linewidths=1, marker='o')\n",
    "\n",
    "# Incorporate the other graph properties\n",
    "plt.title(\"City Latitude vs. Cloudiness (%)\")\n",
    "plt.xlabel(\"Latitude\")\n",
    "plt.ylabel(\"Cloudiness (%)\")\n",
    "plt.grid(True)\n",
    "\n",
    "# Save the figure\n",
    "plt.savefig(\"output_data/Fig3.png\")\n",
    "\n",
    "# Show plot\n",
    "plt.show()"
   ]
  },
  {
   "cell_type": "markdown",
   "metadata": {},
   "source": [
    "#### Latitude vs. Wind Speed Plot"
   ]
  },
  {
   "cell_type": "code",
   "execution_count": null,
   "metadata": {},
   "outputs": [],
   "source": [
    "# Build the scatter plots for latitude vs. wind speed\n",
    "plt.scatter(city_data_df[\"Lat\"], city_data_df[\"Wind Speed\"], edgecolor='black', linewidths=1, marker='o')\n",
    "\n",
    "# Incorporate the other graph properties\n",
    "plt.title(\"City Latitude vs. Wind Speed (m/s)\")\n",
    "plt.xlabel(\"Latitude\")\n",
    "plt.ylabel(\"Wind Speed (m/s)\")\n",
    "plt.grid(True)\n",
    "\n",
    "# Save the figure\n",
    "plt.savefig(\"output_data/Fig4.png\")\n",
    "\n",
    "# Show plot\n",
    "plt.show()"
   ]
  },
  {
   "cell_type": "markdown",
   "metadata": {},
   "source": [
    "---\n",
    "\n",
    "## Requirement 2: Compute Linear Regression for Each Relationship\n"
   ]
  },
  {
   "cell_type": "code",
   "execution_count": null,
   "metadata": {},
   "outputs": [],
   "source": [
    "# Drop rows with missing values for the Northern Hemisphere\n",
    "northern_hemi_df = northern_hemi_df.dropna(subset=[\"Lat\", \"Max Temp\"])\n",
    "\n",
    "# Drop rows with missing values for the Southern Hemisphere\n",
    "southern_hemi_df = southern_hemi_df.dropna(subset=[\"Lat\", \"Max Temp\"])\n",
    "\n",
    "# Ensure data is numeric in Northern Hemisphere\n",
    "northern_hemi_df[\"Lat\"] = pd.to_numeric(northern_hemi_df[\"Lat\"], errors='coerce')\n",
    "northern_hemi_df[\"Max Temp\"] = pd.to_numeric(northern_hemi_df[\"Max Temp\"], errors='coerce')\n",
    "\n",
    "# Ensure data is numeric in Southern Hemisphere\n",
    "southern_hemi_df[\"Lat\"] = pd.to_numeric(southern_hemi_df[\"Lat\"], errors='coerce')\n",
    "southern_hemi_df[\"Max Temp\"] = pd.to_numeric(southern_hemi_df[\"Max Temp\"], errors='coerce')\n",
    "\n",
    "import numpy as np\n",
    "import matplotlib.pyplot as plt\n",
    "from scipy import stats\n",
    "\n",
    "# Define a function to create Linear Regression plots\n",
    "def create_linear_regression_plot(x, y, title, xlabel, ylabel):\n",
    "    # Calculate the linear regression\n",
    "    slope, intercept, r_value, p_value, std_err = stats.linregress(x, y)\n",
    "\n",
    "    # Create the regression line\n",
    "    regression_line = slope * x + intercept\n",
    "\n",
    "    # Create the scatter plot\n",
    "    plt.scatter(x, y, color='blue', label='Data points')\n",
    "    plt.plot(x, regression_line, color='red', label='Regression line')\n",
    "\n",
    "    # Add title and labels\n",
    "    plt.title(title)\n",
    "    plt.xlabel(xlabel)\n",
    "    plt.ylabel(ylabel)\n",
    "\n",
    "    # Display the r-squared value on the plot\n",
    "    plt.text(0.05, 0.95, f'$R^2 = {r_value**2:.2f}$', transform=plt.gca().transAxes)\n",
    "\n",
    "    # Show legend\n",
    "    plt.legend()\n",
    "\n",
    "    # Display the plot\n",
    "    plt.show()"
   ]
  },
  {
   "cell_type": "code",
   "execution_count": null,
   "metadata": {},
   "outputs": [],
   "source": [
    "# Create a DataFrame with the Northern Hemisphere data (Latitude >= 0)\n",
    "northern_hemi_df = city_data_df.loc[city_data_df[\"Lat\"] >= 0]\n",
    "\n",
    "# Display sample data\n",
    "northern_hemi_df.head()"
   ]
  },
  {
   "cell_type": "code",
   "execution_count": null,
   "metadata": {},
   "outputs": [],
   "source": [
    "# Create a DataFrame with the Southern Hemisphere data (Latitude < 0)\n",
    "southern_hemi_df = city_data_df.loc[city_data_df[\"Lat\"] < 0]\n",
    "\n",
    "# Display sample data\n",
    "southern_hemi_df.head()"
   ]
  },
  {
   "cell_type": "markdown",
   "metadata": {},
   "source": [
    "###  Temperature vs. Latitude Linear Regression Plot"
   ]
  },
  {
   "cell_type": "code",
   "execution_count": null,
   "metadata": {},
   "outputs": [],
   "source": [
    "# Linear regression on Northern Hemisphere\n",
    "plot_linear_regression(northern_hemi_df[\"Lat\"], northern_hemi_df[\"Max Temp\"], \n",
    "                       \"Temperature vs. Latitude\", \"Latitude\", \"Max Temperature (C)\", \"Northern Hemisphere\")"
   ]
  },
  {
   "cell_type": "code",
   "execution_count": null,
   "metadata": {},
   "outputs": [],
   "source": [
    "# Linear regression on Southern Hemisphere\n",
    "plot_linear_regression(southern_hemi_df[\"Lat\"], southern_hemi_df[\"Max Temp\"], \n",
    "                       \"Temperature vs. Latitude\", \"Latitude\", \"Max Temperature (C)\", \"Southern Hemisphere\")"
   ]
  },
  {
   "cell_type": "markdown",
   "metadata": {},
   "source": [
    "**Discussion about the linear relationship:** YOUR RESPONSE HERE"
   ]
  },
  {
   "cell_type": "markdown",
   "metadata": {},
   "source": [
    "### Humidity vs. Latitude Linear Regression Plot"
   ]
  },
  {
   "cell_type": "code",
   "execution_count": null,
   "metadata": {},
   "outputs": [],
   "source": [
    "# Northern Hemisphere\n",
    "plot_linear_regression(northern_hemi_df[\"Lat\"], northern_hemi_df[\"Humidity\"], \n",
    "                       \"Humidity vs. Latitude\", \"Latitude\", \"Humidity (%)\", \"Northern Hemisphere\")"
   ]
  },
  {
   "cell_type": "code",
   "execution_count": null,
   "metadata": {},
   "outputs": [],
   "source": [
    "# Southern Hemisphere\n",
    "plot_linear_regression(southern_hemi_df[\"Lat\"], southern_hemi_df[\"Humidity\"], \n",
    "                       \"Humidity vs. Latitude\", \"Latitude\", \"Humidity (%)\", \"Southern Hemisphere\")"
   ]
  },
  {
   "cell_type": "markdown",
   "metadata": {},
   "source": [
    "**Discussion about the linear relationship:** YOUR RESPONSE HERE"
   ]
  },
  {
   "cell_type": "markdown",
   "metadata": {},
   "source": [
    "### Cloudiness vs. Latitude Linear Regression Plot"
   ]
  },
  {
   "cell_type": "code",
   "execution_count": null,
   "metadata": {},
   "outputs": [],
   "source": [
    "# Northern Hemisphere\n",
    "plot_linear_regression(northern_hemi_df[\"Lat\"], northern_hemi_df[\"Cloudiness\"], \n",
    "                       \"Cloudiness vs. Latitude\", \"Latitude\", \"Cloudiness (%)\", \"Northern Hemisphere\")"
   ]
  },
  {
   "cell_type": "code",
   "execution_count": null,
   "metadata": {},
   "outputs": [],
   "source": [
    "# Southern Hemisphere\n",
    "plot_linear_regression(southern_hemi_df[\"Lat\"], southern_hemi_df[\"Cloudiness\"], \n",
    "                       \"Cloudiness vs. Latitude\", \"Latitude\", \"Cloudiness (%)\", \"Southern Hemisphere\")"
   ]
  },
  {
   "cell_type": "markdown",
   "metadata": {},
   "source": [
    "**Discussion about the linear relationship:** YOUR RESPONSE HERE"
   ]
  },
  {
   "cell_type": "markdown",
   "metadata": {},
   "source": [
    "### Wind Speed vs. Latitude Linear Regression Plot"
   ]
  },
  {
   "cell_type": "code",
   "execution_count": null,
   "metadata": {},
   "outputs": [],
   "source": [
    "# Northern Hemisphere\n",
    "plot_linear_regression(northern_hemi_df[\"Lat\"], northern_hemi_df[\"Wind Speed\"], \n",
    "                       \"Wind Speed vs. Latitude\", \"Latitude\", \"Wind Speed (m/s)\", \"Northern Hemisphere\")"
   ]
  },
  {
   "cell_type": "code",
   "execution_count": null,
   "metadata": {},
   "outputs": [],
   "source": [
    "# Southern Hemisphere\n",
    "plot_linear_regression(southern_hemi_df[\"Lat\"], southern_hemi_df[\"Wind Speed\"], \n",
    "                       \"Wind Speed vs. Latitude\", \"Latitude\", \"Wind Speed (m/s)\", \"Southern Hemisphere\")"
   ]
  },
  {
   "cell_type": "markdown",
   "metadata": {},
   "source": [
    "**Discussion about the linear relationship:** YOUR RESPONSE HERE"
   ]
  },
  {
   "cell_type": "code",
   "execution_count": null,
   "metadata": {},
   "outputs": [],
   "source": [
    "pip in"
   ]
  }
 ],
 "metadata": {
  "anaconda-cloud": {},
  "kernel_info": {
   "name": "python3"
  },
  "kernelspec": {
   "display_name": "Python 3 (ipykernel)",
   "language": "python",
   "name": "python3"
  },
  "language_info": {
   "codemirror_mode": {
    "name": "ipython",
    "version": 3
   },
   "file_extension": ".py",
   "mimetype": "text/x-python",
   "name": "python",
   "nbconvert_exporter": "python",
   "pygments_lexer": "ipython3",
   "version": "3.12.4"
  },
  "latex_envs": {
   "LaTeX_envs_menu_present": true,
   "autoclose": false,
   "autocomplete": true,
   "bibliofile": "biblio.bib",
   "cite_by": "apalike",
   "current_citInitial": 1,
   "eqLabelWithNumbers": true,
   "eqNumInitial": 1,
   "hotkeys": {
    "equation": "Ctrl-E",
    "itemize": "Ctrl-I"
   },
   "labels_anchors": false,
   "latex_user_defs": false,
   "report_style_numbering": false,
   "user_envs_cfg": false
  },
  "nteract": {
   "version": "0.12.3"
  }
 },
 "nbformat": 4,
 "nbformat_minor": 4
}
